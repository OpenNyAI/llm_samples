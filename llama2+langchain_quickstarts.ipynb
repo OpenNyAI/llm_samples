{
  "cells": [
    {
      "cell_type": "code",
      "execution_count": null,
      "id": "a1435cb1-5b42-44eb-892e-d42696201dd4",
      "metadata": {
        "id": "a1435cb1-5b42-44eb-892e-d42696201dd4"
      },
      "outputs": [],
      "source": [
        "# SETUP REQUIREMENTS\n",
        "!pip install langchain text-generation"
      ]
    },
    {
      "cell_type": "markdown",
      "id": "6c9fae7b-6c76-4477-a0ea-17a017ac364b",
      "metadata": {
        "id": "6c9fae7b-6c76-4477-a0ea-17a017ac364b"
      },
      "source": [
        "### Declare your llm"
      ]
    },
    {
      "cell_type": "code",
      "execution_count": null,
      "id": "430effc5-3000-444c-b55c-8b397a7c3f24",
      "metadata": {
        "id": "430effc5-3000-444c-b55c-8b397a7c3f24"
      },
      "outputs": [],
      "source": [
        "from langchain.llms import HuggingFaceTextGenInference\n",
        "\n",
        "llm = HuggingFaceTextGenInference(\n",
        "    inference_server_url=\"http://localhost:8080/\", # Server address will provided later.\n",
        "    max_new_tokens=512,\n",
        "    top_k=10,\n",
        "    top_p=0.95,\n",
        "    typical_p=0.95,\n",
        "    temperature=0.01,\n",
        "    repetition_penalty=1.03,\n",
        ")"
      ]
    },
    {
      "cell_type": "markdown",
      "id": "58c79e96-2d51-4580-90b7-bedce8ef7823",
      "metadata": {
        "id": "58c79e96-2d51-4580-90b7-bedce8ef7823"
      },
      "source": [
        "##### Run a simple llm query"
      ]
    },
    {
      "cell_type": "code",
      "execution_count": null,
      "id": "03acfe9e-61b4-463b-8e22-d33ef4a96437",
      "metadata": {
        "id": "03acfe9e-61b4-463b-8e22-d33ef4a96437",
        "outputId": "289b2af4-40bf-40aa-a093-06f153717386"
      },
      "outputs": [
        {
          "name": "stdout",
          "output_type": "stream",
          "text": [
            "\n",
            "\n",
            "Here's a joke for you:\n",
            "\n",
            "Why did the beachgoer bring an umbrella to the beach on a rainy day?\n",
            "\n",
            "Because he wanted to make a splash!\n",
            "\n",
            "Get it? Splash? Like in the water? Ah, never mind, it's a beach joke, it's a bit of a washout!\n"
          ]
        }
      ],
      "source": [
        "print(llm(\"Write me funny joke about rainy weather on a beach.\"))"
      ]
    },
    {
      "cell_type": "code",
      "execution_count": null,
      "id": "b492c280-cd23-4ada-a02b-4277ecc50fd8",
      "metadata": {
        "id": "b492c280-cd23-4ada-a02b-4277ecc50fd8",
        "outputId": "17b9ccce-5961-45e1-ab98-abe112a45c63"
      },
      "outputs": [
        {
          "name": "stdout",
          "output_type": "stream",
          "text": [
            "\n",
            "\n",
            "Here are some suggestions for a company name for a company that makes colorful socks:\n",
            "\n",
            "1. Rainbow Toes: This name plays off the idea of the colors of the rainbow and the fact that the socks will cover your toes.\n",
            "2. SoleMates: This name is a play on words that references the idea that socks are a necessary accessory for your feet, and also implies that the socks will be a good match for your shoes.\n",
            "3. ColorFiesta: This name evokes the idea of a fun and festive atmosphere, which could be appealing to customers looking for colorful socks.\n",
            "4. Footloose & Fancy Free: This name references the idea of being free and unencumbered, which could be appealing to customers looking for socks that are comfortable and fun.\n",
            "5. The Sock Emporium: This name suggests a wide variety of socks to choose from, which could be appealing to customers looking for something unique and special.\n",
            "6. Hue's Your Daddy: This name is a play on words that references the idea of color and the idea of socks being a necessary accessory for your feet.\n",
            "7. Toes-tally Awesome: This name is a play on words that references the idea of toes and the idea of awesomeness, which could be appealing to customers looking for fun and colorful socks.\n",
            "8. Sockadoodle: This name is a play on words that references the idea of socks and the idea of something being \"doodle\" or fun and playful.\n",
            "9. The Sock Drawer: This name references the idea of socks being stored in a drawer, but also suggests a wide variety of socks to choose from.\n",
            "10. Sock It to Me: This name references the idea of socks being a necessary accessory for your feet, and also suggests a sense of excitement and energy.\n",
            "\n",
            "I hope these suggestions help inspire you as you come up with a name for your company!\n"
          ]
        }
      ],
      "source": [
        "print(llm.predict(\"What would be a good company name for a company that makes colorful socks?\"))"
      ]
    },
    {
      "cell_type": "markdown",
      "id": "a9413835-0aec-430b-b394-fc18367cbc98",
      "metadata": {
        "id": "a9413835-0aec-430b-b394-fc18367cbc98"
      },
      "source": [
        "#### Ask question on a IPC section 503"
      ]
    },
    {
      "cell_type": "code",
      "execution_count": null,
      "id": "42749c5d-365f-4177-90be-118e9dd10373",
      "metadata": {
        "id": "42749c5d-365f-4177-90be-118e9dd10373"
      },
      "outputs": [],
      "source": [
        "section_503_ipc = '''Section 503 in The Indian Penal Code\n",
        "503. Criminal intimidation.—Whoever threatens another with any injury to his person, reputation or property,\n",
        "or to the person or reputation of any one in whom that person is interested,\n",
        "with intent to cause alarm to that person, or to cause that person to do any act which he is not legally bound to do,\n",
        "or to omit to do any act which that person is legally entitled to do, as the means of avoiding the execution of such threat,\n",
        "commits criminal intim­idation. Explanation.—A threat to injure the reputation of any deceased person in whom the person threatened is interested,\n",
        "is within this section. Illustration A, for the purpose of inducing B to desist from prosecuting a civil suit,\n",
        "threatens to burn B’s house. A is guilty of criminal intimidation.'''"
      ]
    },
    {
      "cell_type": "code",
      "execution_count": null,
      "id": "8abef5b6-2172-4caf-8c13-f4c485f6ffae",
      "metadata": {
        "id": "8abef5b6-2172-4caf-8c13-f4c485f6ffae",
        "outputId": "bbaec5dc-edc6-46b6-be98-acf5135fb122"
      },
      "outputs": [
        {
          "name": "stdout",
          "output_type": "stream",
          "text": [
            "\n",
            "\n",
            "\u001b[1m> Entering new LLMChain chain...\u001b[0m\n",
            "Prompt after formatting:\n",
            "\u001b[32;1m\u001b[1;3mYou are a assitant that can help in providing factual answers and information on the legal section geiven below. You will only provide answer from text below and nothing from outside. If you don't know aswer then say you don't know.\n",
            "Section 503 in The Indian Penal Code\n",
            "503. Criminal intimidation.—Whoever threatens another with any injury to his person, reputation or property,\n",
            "or to the person or reputation of any one in whom that person is interested,\n",
            "with intent to cause alarm to that person, or to cause that person to do any act which he is not legally bound to do,\n",
            "or to omit to do any act which that person is legally entitled to do, as the means of avoiding the execution of such threat,\n",
            "commits criminal intim­idation. Explanation.—A threat to injure the reputation of any deceased person in whom the person threatened is interested,\n",
            "is within this section. Illustration A, for the purpose of inducing B to desist from prosecuting a civil suit,\n",
            "threatens to burn B’s house. A is guilty of criminal intimidation. \n",
            "\n",
            "Human: Give me a simple 20 word summary.\n",
            "Assistant:\u001b[0m\n",
            "\n",
            "\u001b[1m> Finished chain.\u001b[0m\n",
            "\n",
            "\n",
            "\n",
            "Assistant answer:\n",
            "Criminal intimidation is threatening harm to someone to make them do something they're not legally bound to do.\n"
          ]
        }
      ],
      "source": [
        "from langchain import LLMChain, PromptTemplate\n",
        "from langchain.memory import ConversationBufferWindowMemory\n",
        "\n",
        "\n",
        "template = \"\"\"You are a assitant that can help in providing factual answers and information on the legal section geiven below. You will only provide answer from text below and nothing from outside. If you don't know aswer then say you don't know.\n",
        "\"\"\"+section_503_ipc+\"\"\"\n",
        "{history}\n",
        "Human: {human_input}\n",
        "Assistant:\"\"\"\n",
        "\n",
        "prompt = PromptTemplate(input_variables=[\"history\", \"human_input\"], template=template)\n",
        "\n",
        "\n",
        "llama_chain = LLMChain(\n",
        "    llm=llm,\n",
        "    prompt=prompt,\n",
        "    verbose=True,\n",
        "    memory=ConversationBufferWindowMemory(k=2),\n",
        ")\n",
        "\n",
        "output = llama_chain.predict(\n",
        "    human_input=\"Give me a simple 20 word summary.\"\n",
        ")\n",
        "print(\"\\n\\n\\nAssistant answer:\")\n",
        "print(output)"
      ]
    },
    {
      "cell_type": "code",
      "execution_count": null,
      "id": "2cf13549-2ae3-4024-8d0c-eed3986ee0fc",
      "metadata": {
        "id": "2cf13549-2ae3-4024-8d0c-eed3986ee0fc",
        "outputId": "28646f7d-6c55-40ff-d806-3fbcd31ce3f8"
      },
      "outputs": [
        {
          "name": "stdout",
          "output_type": "stream",
          "text": [
            "\n",
            "\n",
            "\u001b[1m> Entering new LLMChain chain...\u001b[0m\n",
            "Prompt after formatting:\n",
            "\u001b[32;1m\u001b[1;3mYou are a assitant that can help in providing factual answers and information on the legal section geiven below. You will only provide answer from text below and nothing from outside. If you don't know aswer then say you don't know.\n",
            "Section 503 in The Indian Penal Code\n",
            "503. Criminal intimidation.—Whoever threatens another with any injury to his person, reputation or property,\n",
            "or to the person or reputation of any one in whom that person is interested,\n",
            "with intent to cause alarm to that person, or to cause that person to do any act which he is not legally bound to do,\n",
            "or to omit to do any act which that person is legally entitled to do, as the means of avoiding the execution of such threat,\n",
            "commits criminal intim­idation. Explanation.—A threat to injure the reputation of any deceased person in whom the person threatened is interested,\n",
            "is within this section. Illustration A, for the purpose of inducing B to desist from prosecuting a civil suit,\n",
            "threatens to burn B’s house. A is guilty of criminal intimidation. \n",
            "Human: Give me a simple 20 word summary.\n",
            "AI: Criminal intimidation is threatening harm to someone to make them do something they're not legally bound to do.\n",
            "Human: Okay, can you tell it to me in words that a child can even understand?\n",
            "Assistant:\u001b[0m\n",
            "\n",
            "\u001b[1m> Finished chain.\u001b[0m\n",
            "\n",
            "\n",
            "\n",
            "Assistant answer:\n",
            "Sure! Criminal intimidation is when someone says they'll hurt you or someone you care about if you don't do what they want. It's like a mean bully trying to get their way.\n"
          ]
        }
      ],
      "source": [
        "output = llama_chain.predict(\n",
        "    human_input=\"Okay, can you tell it to me in words that a child can even understand?\"\n",
        ")\n",
        "print(\"\\n\\n\\nAssistant answer:\")\n",
        "print(output)"
      ]
    }
  ],
  "metadata": {
    "kernelspec": {
      "display_name": "Python 3 (ipykernel)",
      "language": "python",
      "name": "python3"
    },
    "language_info": {
      "codemirror_mode": {
        "name": "ipython",
        "version": 3
      },
      "file_extension": ".py",
      "mimetype": "text/x-python",
      "name": "python",
      "nbconvert_exporter": "python",
      "pygments_lexer": "ipython3",
      "version": "3.10.0"
    },
    "colab": {
      "provenance": []
    }
  },
  "nbformat": 4,
  "nbformat_minor": 5
}